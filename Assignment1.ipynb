{
  "nbformat": 4,
  "nbformat_minor": 0,
  "metadata": {
    "colab": {
      "name": "Assignment1.ipynb",
      "provenance": [],
      "collapsed_sections": [],
      "include_colab_link": true
    },
    "kernelspec": {
      "name": "python3",
      "display_name": "Python 3"
    }
  },
  "cells": [
    {
      "cell_type": "markdown",
      "metadata": {
        "id": "view-in-github",
        "colab_type": "text"
      },
      "source": [
        "<a href=\"https://colab.research.google.com/github/dashweta/ML-master-and-deployment-00110/blob/master/Assignment1.ipynb\" target=\"_parent\"><img src=\"https://colab.research.google.com/assets/colab-badge.svg\" alt=\"Open In Colab\"/></a>"
      ]
    },
    {
      "cell_type": "markdown",
      "metadata": {
        "id": "RR1kMMcsdURx",
        "colab_type": "text"
      },
      "source": [
        "Write a program which will find all such numbers which are divisible by 7 but are not a multiple\n",
        "of 5, between 2000 and 3200 (both included). The numbers obtained should be printed in a\n",
        "comma-separated sequence on a single line.\n",
        "\n"
      ]
    },
    {
      "cell_type": "code",
      "metadata": {
        "id": "CyqKxHhWdXPY",
        "colab_type": "code",
        "colab": {
          "base_uri": "https://localhost:8080/",
          "height": 54
        },
        "outputId": "35a3386b-c85e-40af-e70a-51c31b757555"
      },
      "source": [
        "for x in range(2000,3201) :\n",
        "  if (x%7 == 0) :\n",
        "    if(x%5 != 0) :\n",
        "      print(x,end=\",\")"
      ],
      "execution_count": 16,
      "outputs": [
        {
          "output_type": "stream",
          "text": [
            "2002,2009,2016,2023,2037,2044,2051,2058,2072,2079,2086,2093,2107,2114,2121,2128,2142,2149,2156,2163,2177,2184,2191,2198,2212,2219,2226,2233,2247,2254,2261,2268,2282,2289,2296,2303,2317,2324,2331,2338,2352,2359,2366,2373,2387,2394,2401,2408,2422,2429,2436,2443,2457,2464,2471,2478,2492,2499,2506,2513,2527,2534,2541,2548,2562,2569,2576,2583,2597,2604,2611,2618,2632,2639,2646,2653,2667,2674,2681,2688,2702,2709,2716,2723,2737,2744,2751,2758,2772,2779,2786,2793,2807,2814,2821,2828,2842,2849,2856,2863,2877,2884,2891,2898,2912,2919,2926,2933,2947,2954,2961,2968,2982,2989,2996,3003,3017,3024,3031,3038,3052,3059,3066,3073,3087,3094,3101,3108,3122,3129,3136,3143,3157,3164,3171,3178,3192,3199,"
          ],
          "name": "stdout"
        }
      ]
    },
    {
      "cell_type": "markdown",
      "metadata": {
        "id": "ffbIduBvjtZa",
        "colab_type": "text"
      },
      "source": [
        "Write a Python program to accept the user's first and last name and then getting them printed in\n",
        "the the reverse order with a space between first name and last name.\n"
      ]
    },
    {
      "cell_type": "code",
      "metadata": {
        "id": "wt3IbqZ9jxQU",
        "colab_type": "code",
        "colab": {
          "base_uri": "https://localhost:8080/",
          "height": 67
        },
        "outputId": "f6168602-db0b-4c27-cb6d-77059f9ed9a1"
      },
      "source": [
        "firstName = input(\"Please enter your first name : \")\n",
        "lastName = input(\"Please enter your last name : \")\n",
        "\n",
        "fullName = firstName + \" \"+ lastName\n",
        "fullName[::-1]\n"
      ],
      "execution_count": 15,
      "outputs": [
        {
          "output_type": "stream",
          "text": [
            "Please enter your first name : Shweta\n",
            "Please enter your last name : Daptari\n"
          ],
          "name": "stdout"
        },
        {
          "output_type": "execute_result",
          "data": {
            "text/plain": [
              "'iratpaD atewhS'"
            ]
          },
          "metadata": {
            "tags": []
          },
          "execution_count": 15
        }
      ]
    },
    {
      "cell_type": "markdown",
      "metadata": {
        "id": "N80wpP8SnLpT",
        "colab_type": "text"
      },
      "source": [
        "Write a Python program to find the volume of a sphere with diameter 12 cm.\n",
        "Formula: V=4/3 * π *  r^3\n",
        "\n"
      ]
    },
    {
      "cell_type": "code",
      "metadata": {
        "id": "0W2_ksgwnNUU",
        "colab_type": "code",
        "colab": {
          "base_uri": "https://localhost:8080/",
          "height": 50
        },
        "outputId": "aa6bc716-2f55-4a4f-b72f-e80b0a186040"
      },
      "source": [
        "import math\n",
        "diameter = float(input(\"Please enter the diameter of Sphere : \"))\n",
        "radius = diameter/2\n",
        "#print(radius)\n",
        "vol = 4/3*math.pi*(radius**3)\n",
        "print(\"Vol of the sphere is : \"+str(vol))\n"
      ],
      "execution_count": 24,
      "outputs": [
        {
          "output_type": "stream",
          "text": [
            "Please enter the diameter of Sphere : 12\n",
            "Vol of the sphere is : 904.7786842338603\n"
          ],
          "name": "stdout"
        }
      ]
    },
    {
      "cell_type": "markdown",
      "metadata": {
        "id": "I0HLRDRgqA8N",
        "colab_type": "text"
      },
      "source": [
        "Write a program which accepts a sequence of comma-separated numbers from console and\n",
        "generate a list.\n"
      ]
    },
    {
      "cell_type": "code",
      "metadata": {
        "id": "fRppsyiRqB-r",
        "colab_type": "code",
        "colab": {
          "base_uri": "https://localhost:8080/",
          "height": 67
        },
        "outputId": "467e8213-567a-4dc8-c651-7430aa2142bc"
      },
      "source": [
        "numbers = input(\"Enter the comma seperated numbers : \")\n",
        "listOfString = numbers.split(\",\")\n",
        "print(listOfString)\n",
        "\n",
        "listOfNum = []\n",
        "for x in listOfString:\n",
        "    element = int(x)\n",
        "    listOfNum.append(element)\n",
        "    \n",
        "print(listOfNum)\n",
        "  "
      ],
      "execution_count": 42,
      "outputs": [
        {
          "output_type": "stream",
          "text": [
            "Enter the comma seperated numbers : 1,2,3,4,5\n",
            "['1', '2', '3', '4', '5']\n",
            "[1, 2, 3, 4, 5]\n"
          ],
          "name": "stdout"
        }
      ]
    },
    {
      "cell_type": "code",
      "metadata": {
        "id": "W178m6hPrM2h",
        "colab_type": "code",
        "colab": {}
      },
      "source": [
        ""
      ],
      "execution_count": 0,
      "outputs": []
    },
    {
      "cell_type": "markdown",
      "metadata": {
        "id": "lnPrEV87vR9E",
        "colab_type": "text"
      },
      "source": [
        "Create the below pattern using nested for loop in Python (**star pattern : not seen correctly in text editor**)\n",
        "\n",
        "\n",
        "*\n",
        "* *\n",
        "* * *\n",
        "* * * *\n",
        "* * * * *\n",
        "* * * *\n",
        "* * *\n",
        "* *\n",
        "*\n"
      ]
    },
    {
      "cell_type": "code",
      "metadata": {
        "id": "2DlGdczswGd-",
        "colab_type": "code",
        "colab": {
          "base_uri": "https://localhost:8080/",
          "height": 185
        },
        "outputId": "d4e4936e-7c82-4fc4-a77b-376bfd3d8728"
      },
      "source": [
        "for col in range(0,5):\n",
        "  for row in range(0,col):\n",
        "    print(\"*\",end=\" \")\n",
        "  print()\n",
        "\n",
        "for col in range(0,5):\n",
        "  for row in range(col,5):\n",
        "    print(\"*\",end=\" \")\n",
        "  print()"
      ],
      "execution_count": 49,
      "outputs": [
        {
          "output_type": "stream",
          "text": [
            "\n",
            "* \n",
            "* * \n",
            "* * * \n",
            "* * * * \n",
            "* * * * * \n",
            "* * * * \n",
            "* * * \n",
            "* * \n",
            "* \n"
          ],
          "name": "stdout"
        }
      ]
    },
    {
      "cell_type": "code",
      "metadata": {
        "id": "1jsDWAOTwkYH",
        "colab_type": "code",
        "colab": {}
      },
      "source": [
        ""
      ],
      "execution_count": 0,
      "outputs": []
    },
    {
      "cell_type": "markdown",
      "metadata": {
        "id": "S8PYaaZxxFTq",
        "colab_type": "text"
      },
      "source": [
        "Write a Python program to reverse a word after accepting the input from the user.\n"
      ]
    },
    {
      "cell_type": "code",
      "metadata": {
        "id": "Eo5W7MyexGnH",
        "colab_type": "code",
        "colab": {
          "base_uri": "https://localhost:8080/",
          "height": 50
        },
        "outputId": "34d0b1d1-d99b-4d91-b74f-1b9781c13023"
      },
      "source": [
        "word = input(\"Please enter a word : \")\n",
        "word[::-1]\n"
      ],
      "execution_count": 55,
      "outputs": [
        {
          "output_type": "stream",
          "text": [
            "Please enter a word : word\n"
          ],
          "name": "stdout"
        },
        {
          "output_type": "execute_result",
          "data": {
            "text/plain": [
              "'drow'"
            ]
          },
          "metadata": {
            "tags": []
          },
          "execution_count": 55
        }
      ]
    },
    {
      "cell_type": "markdown",
      "metadata": {
        "id": "zhxcul698c5h",
        "colab_type": "text"
      },
      "source": [
        "WE, THE PEOPLE OF INDIA, having solemnly resolved to constitute India into a\n",
        "SOVEREIGN, SOCIALIST, SECULAR, DEMOCRATIC REPUBLIC and to secure to all\n",
        "its citizens\n",
        "\n"
      ]
    },
    {
      "cell_type": "code",
      "metadata": {
        "id": "KPGw9Ki78h3-",
        "colab_type": "code",
        "colab": {
          "base_uri": "https://localhost:8080/",
          "height": 118
        },
        "outputId": "33626101-3c2a-4498-f9f6-5fe375422c31"
      },
      "source": [
        "print(\"\"\"WE, THE PEOPLE OF INDIA,\\n \\t having solemnly resolved to constitute India into a\n",
        "SOVEREIGN, \\n \\t\\t SOCIALIST, SECULAR, DEMOCRATIC REPUBLIC \\n \\t\\t and to secure to all\n",
        "its citizens\"\"\")"
      ],
      "execution_count": 56,
      "outputs": [
        {
          "output_type": "stream",
          "text": [
            "WE, THE PEOPLE OF INDIA,\n",
            " \t having solemnly resolved to constitute India into a\n",
            "SOVEREIGN, \n",
            " \t\t SOCIALIST, SECULAR, DEMOCRATIC REPUBLIC \n",
            " \t\t and to secure to all\n",
            "its citizens\n"
          ],
          "name": "stdout"
        }
      ]
    },
    {
      "cell_type": "code",
      "metadata": {
        "id": "wWIoBS8M83o9",
        "colab_type": "code",
        "colab": {}
      },
      "source": [
        ""
      ],
      "execution_count": 0,
      "outputs": []
    }
  ]
}