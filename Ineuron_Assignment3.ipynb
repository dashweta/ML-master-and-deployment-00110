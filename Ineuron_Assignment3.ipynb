{
  "nbformat": 4,
  "nbformat_minor": 0,
  "metadata": {
    "colab": {
      "name": "Ineuron_Assignment3.ipynb",
      "provenance": [],
      "collapsed_sections": [],
      "include_colab_link": true
    },
    "kernelspec": {
      "name": "python3",
      "display_name": "Python 3"
    }
  },
  "cells": [
    {
      "cell_type": "markdown",
      "metadata": {
        "id": "view-in-github",
        "colab_type": "text"
      },
      "source": [
        "<a href=\"https://colab.research.google.com/github/dashweta/ML-master-and-deployment-00110/blob/master/Ineuron_Assignment3.ipynb\" target=\"_parent\"><img src=\"https://colab.research.google.com/assets/colab-badge.svg\" alt=\"Open In Colab\"/></a>"
      ]
    },
    {
      "cell_type": "markdown",
      "metadata": {
        "id": "fY6XsgcdIJzm",
        "colab_type": "text"
      },
      "source": [
        "1.\n",
        "Write a function to compute 5/0 and use try/except to catch the exceptions.\n"
      ]
    },
    {
      "cell_type": "code",
      "metadata": {
        "id": "gvZg7sR3H8kZ",
        "colab_type": "code",
        "outputId": "17074689-e18e-401d-f08f-d9850b666d48",
        "colab": {
          "base_uri": "https://localhost:8080/",
          "height": 50
        }
      },
      "source": [
        "def division(dividend,divisor):\n",
        "  try:\n",
        "    quotient = dividend/divisor\n",
        "    print(\"Quotient is \"+ str(quotient))\n",
        "  except ZeroDivisionError:\n",
        "    print(\"You can not divide by zero\")\n",
        "  else:\n",
        "    print(\"program executed successfully\")\n",
        "\n",
        "\n",
        "string1 = input(\"enter divident and divisor split by comma: \")\n",
        "stringinput = string1.split(\",\")\n",
        "division(int(stringinput[0]),int(stringinput[1]))\n",
        "\n",
        "\n",
        "  "
      ],
      "execution_count": 0,
      "outputs": [
        {
          "output_type": "stream",
          "text": [
            "enter divident and divisor split by comma: 5,0\n",
            "You can not divide by zero\n"
          ],
          "name": "stdout"
        }
      ]
    },
    {
      "cell_type": "markdown",
      "metadata": {
        "id": "UEH9aVAba63Y",
        "colab_type": "text"
      },
      "source": [
        ""
      ]
    },
    {
      "cell_type": "markdown",
      "metadata": {
        "id": "jDUU8ly0Lzru",
        "colab_type": "text"
      },
      "source": [
        "2. Implement a Python program to generate all sentences where subject is in [\"Americans\",\n",
        "\"Indians\"] and verb is in [\"Play\", \"watch\"] and the object is in [\"Baseball\",\"cricket\"].\n",
        "Hint: Subject,Verb and Object should be declared in the program as shown below.\n",
        "subjects=[\"Americans \",\"Indians\"]\n",
        "verbs=[\"play\",\"watch\"]\n",
        "objects=[\"Baseball\",\"Cricket\"]\n",
        "Output should come as below:\n",
        "Americans play Baseball.\n",
        "Americans play Cricket.\n",
        "Americans watch Baseball.\n",
        "Americans watch Cricket.\n",
        "Indians play Baseball.\n",
        "Indians play Cricket.\n",
        "Indians watch Baseball.\n",
        "Indians watch Cricket."
      ]
    },
    {
      "cell_type": "code",
      "metadata": {
        "id": "lam8OiNSJqsg",
        "colab_type": "code",
        "outputId": "bdbc4efe-bb0d-46a5-afa9-41cda8a8a357",
        "colab": {
          "base_uri": "https://localhost:8080/",
          "height": 151
        }
      },
      "source": [
        "subject = [\"Americans\", \"Indians\"] \n",
        "verb =  [\"play\", \"watch\"]\n",
        "objectSentence = [\"baseball\",\"cricket\"]\n",
        "\n",
        "listComprehension = [sub+\" \"+ v+\" \"+objectSen for sub in subject for v in verb for objectSen in objectSentence ]\n",
        "print(*listComprehension,sep=\"\\n\")\n",
        "\n",
        "\n",
        "# for sub in subject :\n",
        "#   for v in verb:\n",
        "#     for objectSen in objectSentence:\n",
        "#       print(sub+\" \"+v+\" \"+objectSen)\n",
        "\n",
        "# output = [sub+' '+verb +' '+obj for sub in ['Americans', 'Indians'] for verb in['play', 'watch'] for obj in ['Baseball', 'Cricket']]\n",
        "# print(output)"
      ],
      "execution_count": 0,
      "outputs": [
        {
          "output_type": "stream",
          "text": [
            "Americans play baseball\n",
            "Americans play cricket\n",
            "Americans watch baseball\n",
            "Americans watch cricket\n",
            "Indians play baseball\n",
            "Indians play cricket\n",
            "Indians watch baseball\n",
            "Indians watch cricket\n"
          ],
          "name": "stdout"
        }
      ]
    },
    {
      "cell_type": "markdown",
      "metadata": {
        "id": "Qg29TOYja2sJ",
        "colab_type": "text"
      },
      "source": [
        ""
      ]
    },
    {
      "cell_type": "markdown",
      "metadata": {
        "id": "CmgM2QSOTAxg",
        "colab_type": "text"
      },
      "source": [
        "Task 2:\n",
        "1.\n",
        "Write a function so that the columns of the output matrix are powers of the input vector.\n",
        "The order of the powers is determined by the increasing boolean argument. Specifically, when\n",
        "increasing is False, the i-th output column is the input vector raised element-wise to the power\n",
        "of N - i - 1.\n",
        "HINT: Such a matrix with a geometric progression in each row is named for AlexandreTheophile Vandermonde.\n"
      ]
    },
    {
      "cell_type": "markdown",
      "metadata": {
        "id": "RcBqR-7MUYRt",
        "colab_type": "text"
      },
      "source": [
        "Example : here increasing is false\n",
        "<p>>>> x = np.array([1, 2, 3, 5])</p>\n",
        "<p>>>> N = 3\n",
        "<p>>>> np.vander(x, N)\n",
        "<p>array([[ 1,  1,  1],\n",
        "<p>       [ 4,  2,  1],\n",
        " <p>      [ 9,  3,  1],\n",
        "  <p>     [25,  5,  1]])\n",
        "\n",
        "<p>       if increasing is true then :\n",
        "<p>       >>> np.vander(x, increasing=True)\n",
        "<p>array([[  1,   1,   1,   1],\n",
        "<p>       [  1,   2,   4,   8],\n",
        "<p>       [  1,   3,   9,  27],\n",
        "       <p>[  1,   5,  25, 125]])"
      ]
    },
    {
      "cell_type": "code",
      "metadata": {
        "id": "Wh_bgxI0OAEI",
        "colab_type": "code",
        "outputId": "8e56155b-1b89-43e5-ef1e-441046e39218",
        "colab": {
          "base_uri": "https://localhost:8080/",
          "height": 84
        }
      },
      "source": [
        "def str2bool(v):\n",
        "  return v.lower() in (\"yes\", \"true\", \"t\", \"1\")\n",
        "\n",
        "\n",
        "def createVanderMatrix(intArray,n,isIncreasing):\n",
        "  listMatrix=[]\n",
        "  for element in intArray:\n",
        "    listArray=[]\n",
        "    for i in range(n):\n",
        "      if not isIncreasing:\n",
        "        listArray.append(element**(i))\n",
        "      else:\n",
        "        listArray.append(element**(n-i-1))\n",
        "    \n",
        "    listMatrix.append(listArray)\n",
        "  print(listMatrix) \n",
        "    \n",
        "\n",
        "stringInput = input(\"enter comma seperated array : \")\n",
        "string1 = stringInput.split(\",\")\n",
        "intArray = [int(string) for string in string1]\n",
        "# print(intArray)\n",
        "strN = input(\"No of columns for matrix : \")\n",
        "n = int(strN)\n",
        "isIncreasingStr = input(\"Increasing true or false : \")\n",
        "isIncreasing = str2bool(isIncreasingStr)\n",
        "createVanderMatrix(intArray,n,isIncreasing)\n"
      ],
      "execution_count": 4,
      "outputs": [
        {
          "output_type": "stream",
          "text": [
            "enter comma seperated array : 1,2,4,5\n",
            "No of columns for matrix : 4\n",
            "Increasing true or false : true\n",
            "[[1, 1, 1, 1], [8, 4, 2, 1], [64, 16, 4, 1], [125, 25, 5, 1]]\n"
          ],
          "name": "stdout"
        }
      ]
    },
    {
      "cell_type": "code",
      "metadata": {
        "id": "4_t0Dl_JWKc5",
        "colab_type": "code",
        "colab": {}
      },
      "source": [
        ""
      ],
      "execution_count": 0,
      "outputs": []
    }
  ]
}